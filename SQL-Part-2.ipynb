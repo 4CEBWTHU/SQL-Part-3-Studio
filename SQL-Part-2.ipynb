{
    "metadata": {
        "kernelspec": {
            "name": "SQL",
            "display_name": "SQL",
            "language": "sql"
        },
        "language_info": {
            "name": "sql",
            "version": ""
        },
        "extensions": {
            "azuredatastudio": {
                "version": 1,
                "views": []
            }
        }
    },
    "nbformat_minor": 2,
    "nbformat": 4,
    "cells": [
        {
            "cell_type": "markdown",
            "source": [
                "# SQL Part 2 Studio\n",
                "\n",
                "### Let's practice your SQL quering skills!  For each question, work along in the notebook adding your query and answering the questions. \n",
                "\n",
                "### **DataSet**\n",
                "\n",
                "### <span style=\"font-size: 14px; font-family: -apple-system, BlinkMacSystemFont, sans-serif;\">We will be using the Goodbooks-10k dataset from the exercises in the prep work.&nbsp; Feel free reference your notebook.</span>\n",
                "\n",
                "- The dataset can be found here: [goodbooks-10k](https://www.kaggle.com/zygmunt/goodbooks-10k)\n",
                "- You can access the **BooksDB** in the Launchcode server.\n",
                "\n",
                "### **Business Issue**\n",
                "\n",
                "You are an employee at a small independet bookstore and you have been tasked to increase sales.  You decide to use the BooksDB to find bookss and themes to highlight in fun promotions throughout each month.  We will be starting with March and then you will have a chance to explore another month of your choosing.  We want to come up with a list of at least 3 events/ promotions to run each month.  If you are looking for ideas to include in your promotions:\n",
                "\n",
                "- [https://www.calendarr.com/united-states/calendar-2022/](https://www.calendarr.com/united-states/calendar-2022/)\n",
                "- [https://www.holidayinsights.com/moreholidays/](https://www.holidayinsights.com/moreholidays/)\n",
                "    - Click on a month and it will take you to a more detailed page"
            ],
            "metadata": {
                "azdata_cell_guid": "b9034d8a-b631-48bf-a895-1012a6ffa784"
            },
            "attachments": {}
        },
        {
            "cell_type": "markdown",
            "source": [
                "## Part 1:  March - Womans History Month, Dr Seuss Day(3/2), National Pie Day3/14, St Patricks Day (3/17), James Patterson(3/22)"
            ],
            "metadata": {
                "azdata_cell_guid": "6e55eb1c-4a14-4076-90d2-95ed17a6309f"
            },
            "attachments": {}
        },
        {
            "cell_type": "markdown",
            "source": [
                "Event 1: Womans History Month\n",
                "\n",
                "Goal: Highlight Popular Womans Authors and Issues"
            ],
            "metadata": {
                "azdata_cell_guid": "d220c097-e9cf-4edd-9abe-312d071217b7"
            },
            "attachments": {}
        },
        {
            "cell_type": "code",
            "source": [
                "-- SOLUTION\n",
                "-- Query to look at tags to see which ones may be helpful\n",
                "SELECT TOP 1000 * \n",
                "   FROM BooksDB.dbo.tags\n",
                "   WHERE tag_name LIKE '%woman%'\n",
                "    "
            ],
            "metadata": {
                "azdata_cell_guid": "470b0ca4-9a32-4b46-a42e-bbb645101769",
                "tags": []
            },
            "outputs": [
                {
                    "output_type": "display_data",
                    "data": {
                        "text/html": "(24 rows affected)"
                    },
                    "metadata": {}
                },
                {
                    "output_type": "display_data",
                    "data": {
                        "text/html": "Total execution time: 00:00:00.098"
                    },
                    "metadata": {}
                },
                {
                    "output_type": "execute_result",
                    "metadata": {},
                    "execution_count": 4,
                    "data": {
                        "application/vnd.dataresource+json": {
                            "schema": {
                                "fields": [
                                    {
                                        "name": "tag_id"
                                    },
                                    {
                                        "name": "tag_name"
                                    }
                                ]
                            },
                            "data": [
                                {
                                    "0": "937",
                                    "1": "21-books-every-woman-should-read"
                                },
                                {
                                    "0": "1386",
                                    "1": "a-woman-after-god-s-own-heart"
                                },
                                {
                                    "0": "1387",
                                    "1": "a-woman-after-gods-own-heart"
                                },
                                {
                                    "0": "4006",
                                    "1": "batwoman"
                                },
                                {
                                    "0": "4455",
                                    "1": "biblical-womanhood"
                                },
                                {
                                    "0": "4729",
                                    "1": "black-ops-woman-team-cia-sean-case"
                                },
                                {
                                    "0": "5132",
                                    "1": "books-every-woman-should-read"
                                },
                                {
                                    "0": "7194",
                                    "1": "christian-woman"
                                },
                                {
                                    "0": "10986",
                                    "1": "every-woman-should-read"
                                },
                                {
                                    "0": "19038",
                                    "1": "man-woman"
                                },
                                {
                                    "0": "19757",
                                    "1": "memorable-woman-characters"
                                },
                                {
                                    "0": "22269",
                                    "1": "older-man-younger-woman"
                                },
                                {
                                    "0": "22270",
                                    "1": "older-woman"
                                },
                                {
                                    "0": "22271",
                                    "1": "older-woman-younger-man"
                                },
                                {
                                    "0": "23671",
                                    "1": "pioneer-woman"
                                },
                                {
                                    "0": "23891",
                                    "1": "policewoman-potential-victim"
                                },
                                {
                                    "0": "32679",
                                    "1": "woman-author"
                                },
                                {
                                    "0": "32680",
                                    "1": "woman-s-fiction"
                                },
                                {
                                    "0": "32681",
                                    "1": "woman-s-murder-club"
                                },
                                {
                                    "0": "32682",
                                    "1": "woman-trans-agender-authors"
                                },
                                {
                                    "0": "32683",
                                    "1": "womanhood"
                                },
                                {
                                    "0": "32684",
                                    "1": "womans-literature"
                                },
                                {
                                    "0": "32685",
                                    "1": "womans-murder-club"
                                },
                                {
                                    "0": "32740",
                                    "1": "wonder-woman"
                                }
                            ]
                        },
                        "text/html": [
                            "<table>",
                            "<tr><th>tag_id</th><th>tag_name</th></tr>",
                            "<tr><td>937</td><td>21-books-every-woman-should-read</td></tr>",
                            "<tr><td>1386</td><td>a-woman-after-god-s-own-heart</td></tr>",
                            "<tr><td>1387</td><td>a-woman-after-gods-own-heart</td></tr>",
                            "<tr><td>4006</td><td>batwoman</td></tr>",
                            "<tr><td>4455</td><td>biblical-womanhood</td></tr>",
                            "<tr><td>4729</td><td>black-ops-woman-team-cia-sean-case</td></tr>",
                            "<tr><td>5132</td><td>books-every-woman-should-read</td></tr>",
                            "<tr><td>7194</td><td>christian-woman</td></tr>",
                            "<tr><td>10986</td><td>every-woman-should-read</td></tr>",
                            "<tr><td>19038</td><td>man-woman</td></tr>",
                            "<tr><td>19757</td><td>memorable-woman-characters</td></tr>",
                            "<tr><td>22269</td><td>older-man-younger-woman</td></tr>",
                            "<tr><td>22270</td><td>older-woman</td></tr>",
                            "<tr><td>22271</td><td>older-woman-younger-man</td></tr>",
                            "<tr><td>23671</td><td>pioneer-woman</td></tr>",
                            "<tr><td>23891</td><td>policewoman-potential-victim</td></tr>",
                            "<tr><td>32679</td><td>woman-author</td></tr>",
                            "<tr><td>32680</td><td>woman-s-fiction</td></tr>",
                            "<tr><td>32681</td><td>woman-s-murder-club</td></tr>",
                            "<tr><td>32682</td><td>woman-trans-agender-authors</td></tr>",
                            "<tr><td>32683</td><td>womanhood</td></tr>",
                            "<tr><td>32684</td><td>womans-literature</td></tr>",
                            "<tr><td>32685</td><td>womans-murder-club</td></tr>",
                            "<tr><td>32740</td><td>wonder-woman</td></tr>",
                            "</table>"
                        ]
                    }
                }
            ],
            "execution_count": 4
        },
        {
            "cell_type": "markdown",
            "source": [
                "Decide I want to explore the following tags:\n",
                "\n",
                "line 17 tag\\_id is woman-author, 32679\n",
                "\n",
                "line 20 tag\\_id is woman-trans-agender-author, 32682\n",
                "\n",
                "line 21 tag\\_id is womanhood, 32683\n",
                "\n",
                "  \n",
                "\n",
                "### Join Tables to return authors, titles with tags selected, ratings.\n",
                "\n",
                "Decide I want to return the top 10 rated books with each tag to highlight"
            ],
            "metadata": {
                "azdata_cell_guid": "e9acd8b5-a62b-4ac0-bd07-19915b379ba6"
            },
            "attachments": {}
        },
        {
            "cell_type": "code",
            "source": [
                "SELECT TOP 10(title)\n",
                "FROM BooksDB.dbo.books\n",
                "WHERE "
            ],
            "metadata": {
                "azdata_cell_guid": "51ffeaaf-6dde-4906-95f3-eb8757babf27"
            },
            "outputs": [],
            "execution_count": null
        },
        {
            "cell_type": "markdown",
            "source": [
                ""
            ],
            "metadata": {
                "azdata_cell_guid": "d3ff6625-6752-4cfe-988f-5b5ada35c311"
            },
            "attachments": {}
        },
        {
            "cell_type": "code",
            "source": [
                ""
            ],
            "metadata": {
                "azdata_cell_guid": "fa19b188-8b73-480e-9eef-5e277bc8c0c2"
            },
            "outputs": [
                {
                    "output_type": "display_data",
                    "data": {
                        "text/html": "Commands completed successfully."
                    },
                    "metadata": {}
                },
                {
                    "output_type": "display_data",
                    "data": {
                        "text/html": "Total execution time: 00:00:00"
                    },
                    "metadata": {}
                }
            ],
            "execution_count": 1
        },
        {
            "cell_type": "markdown",
            "source": [
                "# Part 2: Choose Another Month\n",
                "\n",
                "Choose another month and plan at least 3 events / promotions and answer the following questions.\n",
                "\n",
                "Which month did you choose?  \n",
                "\n",
                "What 3 events / promotions are you highlighting?\n",
                "\n",
                "> 1.\n",
                "\n",
                "> 2.\n",
                "\n",
                "> 3."
            ],
            "metadata": {
                "azdata_cell_guid": "3eaf376d-9de3-4553-a9d0-9caf74ee3d6a"
            },
            "attachments": {}
        },
        {
            "cell_type": "markdown",
            "source": [
                "# Part 3: Summarize your Work\n",
                "\n",
                "For each event write at least one query to support your choice and record you thoughts as to why you used the paticlular query."
            ],
            "metadata": {
                "azdata_cell_guid": "1ba1363a-4f02-4962-a95a-93b80c5926b1"
            },
            "attachments": {}
        },
        {
            "cell_type": "code",
            "source": [
                "-- Event 1"
            ],
            "metadata": {
                "azdata_cell_guid": "f50d32ce-4cb2-4af2-acb1-607777a76cf8"
            },
            "outputs": [],
            "execution_count": null
        },
        {
            "cell_type": "code",
            "source": [
                "-- Event 2"
            ],
            "metadata": {
                "azdata_cell_guid": "dca0a98f-065f-4b0e-9d93-fcb01cad668c"
            },
            "outputs": [],
            "execution_count": null
        },
        {
            "cell_type": "code",
            "source": [
                "-- Event 3"
            ],
            "metadata": {
                "azdata_cell_guid": "eae07671-2de6-4ac5-9413-018ae5e354ac"
            },
            "outputs": [],
            "execution_count": null
        }
    ]
}